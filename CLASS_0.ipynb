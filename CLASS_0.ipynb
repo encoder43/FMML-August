{
  "nbformat": 4,
  "nbformat_minor": 0,
  "metadata": {
    "colab": {
      "name": "CLASS 0.ipynb",
      "provenance": [],
      "collapsed_sections": [],
      "authorship_tag": "ABX9TyOHzXbJJa4M7Ikl9L2GOQNT",
      "include_colab_link": true
    },
    "kernelspec": {
      "name": "python3",
      "display_name": "Python 3"
    },
    "language_info": {
      "name": "python"
    }
  },
  "cells": [
    {
      "cell_type": "markdown",
      "metadata": {
        "id": "view-in-github",
        "colab_type": "text"
      },
      "source": [
        "<a href=\"https://colab.research.google.com/github/encoder43/FMML-August/blob/main/CLASS_0.ipynb\" target=\"_parent\"><img src=\"https://colab.research.google.com/assets/colab-badge.svg\" alt=\"Open In Colab\"/></a>"
      ]
    },
    {
      "cell_type": "code",
      "execution_count": 1,
      "metadata": {
        "id": "XZgmFB1LWYdS",
        "colab": {
          "base_uri": "https://localhost:8080/"
        },
        "outputId": "b3a2342d-82dc-48f7-954e-99c7e5fca2fb"
      },
      "outputs": [
        {
          "output_type": "stream",
          "name": "stdout",
          "text": [
            "Hello Deekshith\n"
          ]
        }
      ],
      "source": [
        "print('Hello Deekshith')"
      ]
    }
  ]
}